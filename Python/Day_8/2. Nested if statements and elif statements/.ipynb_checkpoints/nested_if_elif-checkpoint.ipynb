{
 "cells": [
  {
   "cell_type": "code",
   "execution_count": 1,
   "id": "bbd8c733-137c-4d70-ad05-c8143956f00c",
   "metadata": {},
   "outputs": [
    {
     "name": "stdout",
     "output_type": "stream",
     "text": [
      "Welcome to rollercoaster!\n"
     ]
    },
    {
     "name": "stdin",
     "output_type": "stream",
     "text": [
      "What is your height in cm?  121\n"
     ]
    },
    {
     "name": "stdout",
     "output_type": "stream",
     "text": [
      "You can ride the rollercoaster!\n"
     ]
    },
    {
     "name": "stdin",
     "output_type": "stream",
     "text": [
      "What is your age?  18\n"
     ]
    },
    {
     "name": "stdout",
     "output_type": "stream",
     "text": [
      "Please pay $7.\n"
     ]
    }
   ],
   "source": [
    "print(\"Welcome to rollercoaster!\")\n",
    "\n",
    "height = int(input(\"What is your height in cm? \"))\n",
    "\n",
    "\n",
    "if height >= 120:\n",
    "    print(\"You can ride the rollercoaster!\")\n",
    "    # So the place where we're going to nest our if statement is inside here. Notice how it's indented. So it's already inside this if block, and above statement already has to be true.\n",
    "    # Now here we're going to create another if and else statement and the condition checks for their age. So we better ask them for an age.\n",
    "    # Let's say age equals convert the inputs to an int and \"what is your age?\"\n",
    "    age = int(input(\"What is your age? \"))\n",
    "    #So now that we've gotten hold of their age, we can see if their age is less than or equal to 18. Well in this case we're going to give them the $7 ticket.\n",
    "\n",
    "    if age <= 18:\n",
    "        print(\"Please pay $7.\")\n",
    "\n",
    "    # But else namely, if this is not true, if their age is over 18, well, in that case, we're going to give them the $12 ticket.\n",
    "    # So now we have a nested if statement, because this if and else statement lives inside this if statement.\n",
    "    # So this condition will only be checked if this is already deemed to be true.\n",
    "\n",
    "    else:\n",
    "        print(\"Please pay $12.\")\n",
    "else:\n",
    "    print(\"Sorry, you have to grow taller before you can ride.\")"
   ]
  },
  {
   "cell_type": "code",
   "execution_count": 2,
   "id": "f5395b31-e840-4142-813b-0be0bd862b1c",
   "metadata": {},
   "outputs": [
    {
     "name": "stdout",
     "output_type": "stream",
     "text": [
      "Welcome to rollercoaster!\n"
     ]
    },
    {
     "name": "stdin",
     "output_type": "stream",
     "text": [
      "What is your height in cm?  130\n",
      "What is your age?  19\n"
     ]
    },
    {
     "name": "stdout",
     "output_type": "stream",
     "text": [
      "You can ride the rollercoaster!\n",
      "Please pay $12.\n"
     ]
    }
   ],
   "source": [
    "# Now the first thing I'm going to check is if the age is\n",
    "\n",
    "print(\"Welcome to rollercoaster!\")\n",
    "\n",
    "height = int(input(\"What is your height in cm? \"))\n",
    "\n",
    "age = int(input(\"What is your age? \"))\n",
    "\n",
    "if height >= 120:\n",
    "    print(\"You can ride the rollercoaster!\")\n",
    "    # Now the first thing I'm going to check is if the age is less than 12. Under this condition, they should pay $5. So let's change that to five.\n",
    "\n",
    "    if age < 12:\n",
    "        print(\"Please pay $5.\")\n",
    "    # Now the next condition should be created using an elif, which stands for else if. So it means, if above condition is not true else if, can you check if this is true?\n",
    "    # Well in that case then we should do this. For example, if the age is not less than 12, so they're over 12, then are they under 18? \n",
    "    # Well then this condition basically catches everybody who's between 12 and 18. \n",
    "    elif age <= 18:\n",
    "        print(\"Please pay $7.\")\n",
    "    # And finally, if they're not less than or equal to 18 and they're not less than 12 then that's everybody else who is over 18.\n",
    "\n",
    "    else:\n",
    "        print(\"Please pay $12.\")\n",
    "else:\n",
    "    print(\"Sorry, you have to grow taller before you can ride.\")"
   ]
  }
 ],
 "metadata": {
  "kernelspec": {
   "display_name": "Python 3 (ipykernel)",
   "language": "python",
   "name": "python3"
  },
  "language_info": {
   "codemirror_mode": {
    "name": "ipython",
    "version": 3
   },
   "file_extension": ".py",
   "mimetype": "text/x-python",
   "name": "python",
   "nbconvert_exporter": "python",
   "pygments_lexer": "ipython3",
   "version": "3.11.7"
  }
 },
 "nbformat": 4,
 "nbformat_minor": 5
}
