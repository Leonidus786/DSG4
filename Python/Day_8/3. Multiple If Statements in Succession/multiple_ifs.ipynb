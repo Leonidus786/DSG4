{
 "cells": [
  {
   "cell_type": "code",
   "execution_count": 1,
   "id": "94e087f4-d5ba-4463-af4f-0cc01ff201ac",
   "metadata": {},
   "outputs": [],
   "source": [
    "# This is previous code we have done during nested If.\n",
    "# print(\"Welcome to rollercoaster!\")\n",
    "\n",
    "# height = int(input(\"What is your height in cm? \"))\n",
    "\n",
    "\n",
    "\n",
    "# if height >= 120:\n",
    "#     print(\"You can ride the rollercoaster!\")\n",
    "#     age = int(input(\"What is your age? \"))\n",
    "#     if age < 12:\n",
    "#         print(\"Please pay $5.\")\n",
    "#     elif age <= 18:\n",
    "#         print(\"Please pay $7.\")\n",
    "#     else:\n",
    "#         print(\"Please pay $12.\")\n",
    "# else:\n",
    "#     print(\"Sorry, you have to grow taller before you can ride.\")"
   ]
  },
  {
   "cell_type": "code",
   "execution_count": 2,
   "id": "edaeba85-7fb3-4413-b3de-601f591dc003",
   "metadata": {},
   "outputs": [
    {
     "name": "stdout",
     "output_type": "stream",
     "text": [
      "Welcome to rollercoaster!\n"
     ]
    },
    {
     "name": "stdin",
     "output_type": "stream",
     "text": [
      "What is your height in cm?  135\n"
     ]
    },
    {
     "name": "stdout",
     "output_type": "stream",
     "text": [
      "You can ride the rollercoaster!\n"
     ]
    },
    {
     "name": "stdin",
     "output_type": "stream",
     "text": [
      "What is your age?  30\n"
     ]
    },
    {
     "name": "stdout",
     "output_type": "stream",
     "text": [
      "Adult tickets are $12.\n"
     ]
    },
    {
     "name": "stdin",
     "output_type": "stream",
     "text": [
      "Do you want a photo taken? Y or N.  Y\n"
     ]
    },
    {
     "name": "stdout",
     "output_type": "stream",
     "text": [
      "Your final bill is 15\n"
     ]
    }
   ],
   "source": [
    "# Well, first let's change these print statements. Instead of giving them the bill at each of these steps,\n",
    "# I'm going to tell them which type of ticket they're eligible for.\n",
    "\n",
    "# So the next thing to do is to ask them whether if they want a photo or not.\n",
    "# So I'm going to need to use an input, but the question is where do I put that?\n",
    "# Now the correct answer is that it has to be at the same indentation level as this age if block is. So you can imagine this whole thing with the,\n",
    "# if elif and else as sort of belonging together. \n",
    "# Because they all relate to one thing: what is their age and which type of ticket are they eligible for.\n",
    "# Now, outside of that if statement, I'm going to create an input and ask the user, do you want a photo taken? Type Y for yes or N for no.\n",
    "# And then I'm going to save their input inside a variable called wants_photo.\n",
    "# So now I'm going to use an if statement to check what their answer was. If it was true, then I'm going to add $3 and if it was false,\n",
    "# I'm just going to skip to giving them their ticket price.\n",
    "# So here is where I write my if statement. Notice how it's at the same indentation level as this previous set of if statements.\n",
    "# But it's not at the same indentation level as this set of if statement. So essentially what's happening is once I've checked their age,\n",
    "# then I'm going to check whether if they want a photo or not. And this is going to apply to everybody no matter their age.\n",
    "# So if wants_photo is equal to Y, well in this case I'm going to go and add $3 to their bill.\n",
    "# But how can I add $3 the bill when I don't have a variable to vary?\n",
    "# So instead of using these print statements, I'm going to create a variable up here called bill and I'm going to set it to equal zero.\n",
    "# Now in addition to printing to the user how much their ticket is, I'm going to set the bill to the price that they're supposed to pay.\n",
    "# So if age is less than 12 bill is equal to $5, if age is less than 18 then the bill is equal to $7, and finally for everybody else, he bill is equal to $12. \n",
    "# So now depending on these conditions, the variable bill is going to be changed to a different number.\n",
    "# But once we land in this if statement, I'm going to have to add $3 to their bill no matter which value it is at the moment.\n",
    "# So effectively, what I want to do is bill equals the current value of bill plus $3. So if bill was $7,\n",
    "# then this new value bill should be $10. If bill was $12 then it should now be $15.\n",
    "# Now in Python as well as many other languages, there's actually a slightly shorter way of writing this(bill = bill + 3).\n",
    "# When you want to increase the current value that's held in a variable and you wanna save it back into the variable,\n",
    "# you can simply write plus equals. So bill += 3 is the same as bill = bill + 3.\n",
    "# Now, no matter what the value of bill is before it reached this if statement, I'm still going to add $3 to it. Now after this\n",
    "# Now after this if statement is completed, I don't actually have to write a companion else statement because in this case,\n",
    "# if the answer is no, then we're simply going to do nothing. We're not going to do anything to the bill. Instead,\n",
    "# I'm just going to skip ahead and print to the user their final bill.\n",
    "# And I'm going to use fstrings to insert the value that the bill variable has into this print statement. Now for your code to work,\n",
    "# the indentation matters a huge deal because the computer will think you want it to do different things depending on the indentation.\n",
    "# So notice how this indentation shows that this bill plus three is to be executed when this (wants_photo == \"Y\")condition is true,\n",
    "# but this print(print(\"Your final bill is {bill}\")) statement is not indented to the same level and effectively it's going to \n",
    "# happen after this (if wants_photo == \"Y\":) if statement has been executed. \n",
    "# So you can play around with indenting this print statements, un-indenting it and see what the difference is.\n",
    "# But now I'm going to go ahead and hit Ctrl + Alt + N on Windows to run my code and I'm going to go ahead and try and get a ticket.\n",
    "\n",
    "print(\"Welcome to rollercoaster!\")\n",
    "\n",
    "height = int(input(\"What is your height in cm? \"))\n",
    "bill = 0\n",
    "\n",
    "if height >= 120:\n",
    "    print(\"You can ride the rollercoaster!\")\n",
    "    age = int(input(\"What is your age? \"))\n",
    "    if age < 12:\n",
    "        bill = 5\n",
    "        print(\"Child tickets are $5.\") \n",
    "    elif age <= 18:\n",
    "        bill = 7\n",
    "        print(\"Youth tickets are $7.\")\n",
    "    else:\n",
    "        bill = 12\n",
    "        print(\"Adult tickets are $12.\")\n",
    "    wants_photo = input(\"Do you want a photo taken? Y or N. \")\n",
    "    if wants_photo == \"Y\":\n",
    "        #Add $3 to their bill\n",
    "        # bill = bill + 3\n",
    "        bill += 3\n",
    "    print(f\"Your final bill is {bill}\")\n",
    "else:\n",
    "    print(\"Sorry, you have to grow taller before you can ride.\")"
   ]
  }
 ],
 "metadata": {
  "kernelspec": {
   "display_name": "Python 3 (ipykernel)",
   "language": "python",
   "name": "python3"
  },
  "language_info": {
   "codemirror_mode": {
    "name": "ipython",
    "version": 3
   },
   "file_extension": ".py",
   "mimetype": "text/x-python",
   "name": "python",
   "nbconvert_exporter": "python",
   "pygments_lexer": "ipython3",
   "version": "3.11.7"
  }
 },
 "nbformat": 4,
 "nbformat_minor": 5
}
