{
 "cells": [
  {
   "cell_type": "code",
   "execution_count": 5,
   "id": "749c979a-560f-4983-856a-5413ae056a6a",
   "metadata": {},
   "outputs": [
    {
     "name": "stdin",
     "output_type": "stream",
     "text": [
      "Enter the water level(80-100) 23\n"
     ]
    },
    {
     "name": "stdout",
     "output_type": "stream",
     "text": [
      "continue\n"
     ]
    }
   ],
   "source": [
    "# Here's a question. Have you ever sat in your bath and wondered, why is it that no matter how forgetful I am,\n",
    "# my bath never overflows like this?\n",
    "# This is something I was thinking about the other day and I realized that it's not because I'm particularly diligent. \n",
    "# I forget stuff all the time. I mean, pizza, anyone? This is what my pizzas usually look like.\n",
    "# But the reason why a bathtub or the sink doesn't overflow is because of this fantastic piece of engineering, the overflow.\n",
    "# So this means that whenever the water reaches beyond a certain level about here, the water starts overflowing\n",
    "# so the bathtub doesn't overflow and annoy your neighbors downstairs.\n",
    "# In fact, we could represent this mechanism with a conditional statement.\n",
    "# When the water level is say greater than 80 centimeters, then it should drain the water.\n",
    "# But if the water level is not greater than 80 centimeters, it should continue filling up the tub.\n",
    "# This type of conditional statement is known as an if/else statement. Depending on a particular condition,\n",
    "# we would do either A or B.\n",
    "# And when we want to write Python code to represent this, it looks something like this.\n",
    "\n",
    "# water = int(input(\"Enter the water level(80-100): \"))\n",
    "# if water > 80:\n",
    "#     print(\"Drain the water\")\n",
    "# else:\n",
    "#     print(\"Continue\")\n",
    "\n",
    "water = int(input(\"Enter the water level(80-100)\"))\n",
    "\n",
    "if water>80:\n",
    "    print(\"Drain the water\")\n",
    "else:\n",
    "    print('continue')\n",
    "\n",
    "\n",
    "\n",
    "# if condition:\n",
    "#     do this\n",
    "# else:\n",
    "#     do this\n",
    "\n",
    "# There's the keyword if, and then the condition that we're testing for and then a colon and after the colon we've got an indented block of code which should be\n",
    "# executed if this condition is met, if it's true. But if it's not true, then we will skip to the else block and it's just the else keyword with a colon and then this code block would execute if the condition is false.\n",
    "# So we could represent that previous bathtub situation with code that looks a bit like this.\n"
   ]
  },
  {
   "cell_type": "code",
   "execution_count": 6,
   "id": "f460b198-4910-40d4-9a86-b3a4a9b56467",
   "metadata": {},
   "outputs": [],
   "source": [
    "# water_level = 50\n",
    "# if water_level > 80:\n",
    "#     print(\"Drain Water\")\n",
    "# else:\n",
    "#     print(\"Continue\")\n",
    "\n",
    "\n",
    "\n",
    "\n",
    "# Let's say our water level is at 50 centimeters and then we would test if the water level is greater than 80 centimeters. Well, if that is the case,\n",
    "# then we should drain the water. But if it's not greater than 80 centimeters, in other words else, well in this case, we should just continue filling up the bathtub.\n",
    "# Let's put this into practice with a real life problem.\n",
    "\n",
    "# Now let's say that you've gotten a job at a theme park and your first job of the day is to write some code that replaces the ticket box.\n",
    "# Now there's a couple of things that you'll need to think about. Firstly, in order for somebody to actually purchase a ticket to go on the rollercoaster\n",
    "# ride, they will need to be over 120 centimeters. So we have to check what their height is because if they're too short,\n",
    "# then we won't be able to sell them a ticket anyways. In the README.md, I've included a link to this flow chart that I've created on draw.io.\n",
    "# This is a really, really useful tool for creating any sort of flow charts or diagrams and it's really easy to use. Now, if we take a look at this flow chart,\n",
    "# this is basically the logic that we have to program using our, if and else statements.\n",
    "# If the person who's trying to purchase a ticket is not over 120 centimeters, then they can't ride on the rollercoaster.\n",
    "# But if their height is greater than 120 centimeters, then they can ride.\n",
    "# So let's try it out in tickets.py \n",
    "# you'll find some starting code in there and you can go ahead."
   ]
  }
 ],
 "metadata": {
  "kernelspec": {
   "display_name": "Python 3 (ipykernel)",
   "language": "python",
   "name": "python3"
  },
  "language_info": {
   "codemirror_mode": {
    "name": "ipython",
    "version": 3
   },
   "file_extension": ".py",
   "mimetype": "text/x-python",
   "name": "python",
   "nbconvert_exporter": "python",
   "pygments_lexer": "ipython3",
   "version": "3.11.7"
  }
 },
 "nbformat": 4,
 "nbformat_minor": 5
}
