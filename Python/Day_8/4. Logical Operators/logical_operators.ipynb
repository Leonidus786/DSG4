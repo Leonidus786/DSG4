{
 "cells": [
  {
   "cell_type": "code",
   "execution_count": 8,
   "id": "ab56c84c-fe65-496b-a2f5-7e2625f05ca7",
   "metadata": {},
   "outputs": [],
   "source": [
    "A = 12"
   ]
  },
  {
   "cell_type": "code",
   "execution_count": 9,
   "id": "b5bbd6c6-12c0-4b69-a895-4a10c777a2f8",
   "metadata": {},
   "outputs": [
    {
     "data": {
      "text/plain": [
       "False"
      ]
     },
     "execution_count": 9,
     "metadata": {},
     "output_type": "execute_result"
    }
   ],
   "source": [
    "A > 15"
   ]
  },
  {
   "cell_type": "code",
   "execution_count": 10,
   "id": "1c535afd-44d2-4bac-873c-7caf1eb1728c",
   "metadata": {},
   "outputs": [
    {
     "data": {
      "text/plain": [
       "True"
      ]
     },
     "execution_count": 10,
     "metadata": {},
     "output_type": "execute_result"
    }
   ],
   "source": [
    "A > 10"
   ]
  },
  {
   "cell_type": "code",
   "execution_count": 12,
   "id": "4a3a938e-0546-440f-aa0f-36147ddd610c",
   "metadata": {},
   "outputs": [
    {
     "data": {
      "text/plain": [
       "False"
      ]
     },
     "execution_count": 12,
     "metadata": {},
     "output_type": "execute_result"
    }
   ],
   "source": [
    "A > 15 and A > 10"
   ]
  },
  {
   "cell_type": "code",
   "execution_count": 13,
   "id": "ac26e863-a1f9-4ee1-a6fd-8416d9757672",
   "metadata": {},
   "outputs": [
    {
     "data": {
      "text/plain": [
       "True"
      ]
     },
     "execution_count": 13,
     "metadata": {},
     "output_type": "execute_result"
    }
   ],
   "source": [
    "A > 10 and A < 13"
   ]
  },
  {
   "cell_type": "code",
   "execution_count": 14,
   "id": "b2664d3e-181a-4fa5-a6ca-ea8c4d8192b9",
   "metadata": {},
   "outputs": [
    {
     "data": {
      "text/plain": [
       "True"
      ]
     },
     "execution_count": 14,
     "metadata": {},
     "output_type": "execute_result"
    }
   ],
   "source": [
    "A > 15 or A > 10"
   ]
  },
  {
   "cell_type": "code",
   "execution_count": 16,
   "id": "7e7df8ba-7762-4b43-abf9-7eceb6648966",
   "metadata": {},
   "outputs": [
    {
     "name": "stdout",
     "output_type": "stream",
     "text": [
      "Welcome to the rollercoaster!\n"
     ]
    },
    {
     "name": "stdin",
     "output_type": "stream",
     "text": [
      "What is your height in cm?  165\n"
     ]
    },
    {
     "name": "stdout",
     "output_type": "stream",
     "text": [
      "You can ride the rollercoaster!\n"
     ]
    },
    {
     "name": "stdin",
     "output_type": "stream",
     "text": [
      "What is your age?  46\n"
     ]
    },
    {
     "name": "stdout",
     "output_type": "stream",
     "text": [
      "Everything is going to be ok. Have a free ride on us!\n"
     ]
    },
    {
     "name": "stdin",
     "output_type": "stream",
     "text": [
      "Do you want a photo taken? Y or N.  y\n"
     ]
    },
    {
     "name": "stdout",
     "output_type": "stream",
     "text": [
      "Your final bill is $0\n"
     ]
    }
   ],
   "source": [
    "# So if we take a look just inside the console,\n",
    "# and in fact, I'm going to clear the console, and I write some code here.\n",
    "# Let's say that, A = 12 right? Now let's say that I wanted to check whether if is A greater than 15? Well that is going to be false.\n",
    "# Now what about is A greater than 10? Well, that's going to be true.\n",
    "# Now if I combined this using an and statement, I could say, well is A greater than 10 and A is less than 13 and hit enter, then I would get\n",
    "# true because both A is greater than 10 and A is less than 13 are true.\n",
    "# So in this case, when both conditions are true, then this entire line(a > 10 and a < 13) gets evaluated to true.\n",
    "# But see what happens when just one of them is false.\n",
    "# So is A greater than 15 and A less than 13? A is greater than 15 is false, A is less than 13 is true and now we get false.\n",
    "# So that's what happens when you combine different conditions using and. \n",
    "# Now if you only needed one of the conditions to be true, then you could use the or operator instead.\n",
    "# So if a C or D were true or if they're both true, then it'll evaluate to true. It's only when both C and D are false\n",
    "# does this statement actually become false.\n",
    "# Now the final one is the not operator and all that this does is it basically reverses a condition. So if the condition is false,\n",
    "# then it becomes true. If it's true, then it becomes false.\n",
    "# If I wrote not and then I wrote the condition A is greater than 15. A greater than 15 is definitely false, 12 is less than 15. \n",
    "# But by putting the not there it's going to reverse this, so going from false to true.\n",
    "\n",
    "# Coming back to our rollercoaster ticketing, let's say that the rollercoaster company decided that for everybody who was\n",
    "# having a midlife crisis, they would give them free tickets.\n",
    "# And according to Wikipedia,(https://en.wikipedia.org/wiki/Midlife_crisis) midlife crises typically occur when you're a 45 to 55 years old.\n",
    "# Let's see if we can incorporate this into our code.\n",
    "# So let's say that in addition to these existing price categories, what if you had to add a separate price category for those people who are aged\n",
    "# between 45 and 55 and those people get to ride for free?\n",
    "# Do you think you would be able to change the code using what you've learned about logical operators in order to incorporate this addition to our program?\n",
    "\n",
    "# Flow chart --> https://viewer.diagrams.net/?highlight=0000ff&edit=_blank&layers=1&nav=1&title=Day%203%20Logical%20Operators.drawio#R7VtZc9o6FP41zH2iY0teH0uWZpqkQy%2BZ29CXOwYrthNjUVkQyK%2BvjGWwLbEFL6HTzCSxjyVhfec7myQ68GKy%2BEKcqX%2BPXRR2gOIuOvCyA4CqAYP9SyTLVGJqXOCRwOWNNoJB8Ia4UOHSWeCiuNCQYhzSYFoUjnEUoTEtyBxC8Gux2RMOi586dTwkCAZjJxSlPwKX%2BqnUAuZGfoMCz88%2BWTXs9MnEyRrzmcS%2B4%2BLXnAhedeAFwZimV5PFBQoT8DJc0n7XW56uX4ygiB7SoR9ZTw%2FfyQD19fm%2Fc3dxF%2FzCXT6NmC6zCSOXzZ%2FfYkJ97OHICa820h7Bs8hFyagKu9u0ucN4yoQqEz4jSpdcmc6MYiby6STkT9kLk%2BVj0v%2BTAUEmGDJBV%2FmkmHomuVzwz0jvlvm7PiLBBFFEuFBEgwMU4xkZox0QZKxyiIfojnZ62i7BJ%2FcBHOsvCLO3IUvWgKDQocG8yB%2BH09Bbt%2BNdPxPiLHMNpjiIaJwbuZ8IWANuUZABthqR25Oq63mts4t0xOwu92ob0YoZR7DEbpklmqrlWaJ8TIJotRBEYICqFQlgK8UR0vfknTbMOJZohtE8zzgWcyeccXS4b01cm%2BFMGHF6Hl0pU1GZz5904LVATeLjyWjGZtl79QOKBlNnpd1XFp%2BKBNvKiDkiFC126jB7qppFlLKw9bqJFarBZX4uTpSVlld7DuPjIYRtmOr7bQscaFtq1bZ1EshA4OmAzYCKVFwDq%2B6n41MQhhc4xGTVF7o6stzE7cWU4BeUe2KBEWTWWQ2BYZHAQMJfIOGvVhd%2FNQHaCyf6J%2FEALD1EpyFcAV5QKcIlsXfLrAeuy682%2BL%2F%2FzaXPLvk%2BvOl71zdexsRzMXddNHfptD6WuesyTn4URgKzZMENUlLuqhUBrm9YgInNjhaxcMLAi9j1mGGRZG29BIOAVWKf%2BYNJ4LopgVEcvDmj1VAJhXkqw8bVex39MhmLcTZO6VsRzFYp0ENbQBlK%2FCSoDWUxVxqi%2BOxhBpa2F2etJpylnkiMR2143FwttK6OD6mEDvLUuzzwXk9tVO2p5dUIUJKZ55kBgV4cZEvd847aRA6I8lfx%2BXZWWyFa%2FtZ%2FzbLQzm4tgVKGP3%2B8PfT6PwfImj8%2BPAS9STtZKloE9DF3Pdzoid1tNJPcFFaO2laoFMLWMuJdb52LiskyepsrMcASAoQiSYQlqYNeW23Wsk9qhsD1JADHrlaqsKh8zSpthpTzCRvual9c3tzbWy8XUzXnIoYkKWUq1HTRBBuuRu3i%2Bgi0RBu0a1pOkiJlCkjdoThOHK6%2FKuElecO5lUxqGfMD%2FV5tJRNoJVN%2BvwerPJPdsnMHyhFKL6ugZrdhbXEb4iZw84tYejl6t%2B051vRpJ3qrzUTvyuuEd0VvXTkuekPNOiF6l3s3Hb3tLWYoiUVN26FmfLD4LVnmVEFXtc4%2BakNV8Hi6iLXeZNxWoYg1A1rBJPnDpnb%2BoB%2BQKpmNpkqyTH6rD1D2%2BwBhs9gYW2j0VNpejnCUqMB1Yn%2FtXCqAVzeL8AKJ91Bl%2BK6PSJwCsH3%2F%2BGI8erfgFvwKlvfPN8v%2BfVekdBtR%2FaD4vGvZJ7885M%2FnXfx0iYKv9n%2Bz5a06uDNesnnWncPqalHDh2awRx8%2BsuSZcmWnj3ZgLcRlsZxpOiwbWnthWQqVaFafPYYHUJIlCKXLfnVxLeLcooVuvm9BsYpoITXyViqSg3zXLp%2B013dVfrD2JJBbCRDZXkW2IXHkXgWofrPiJI2aH0qjorN6dSJ%2BpjRMPNKIZbbG6lzp1MfMi5x0qlTIwJTVjzwDq8BLlQ%2FqrkNyPulSbNFNWXW5Ka1VC1pbzTD3pIXdvl2u7swMSDz%2FliZG4lnjoxKjpi0FlnZtDNlhbaWmNEoKrFj9%2FQlnuMo4r9fXGjjDtcuacjA%2F%2BCgxQ0ydpPMoSMeIVzFBW5wXrVmeWoDblKSpKrCz1aZGiC3uNPwBR0ABLEVaCa8rOgPKbjdfDEzr283XK%2BHVbw%3D%3D#%7B%22pageId%22%3A%22hBWSzeyfJMC0TEZSpMNW%22%7D\n",
    "\n",
    "# So we've currently got three conditions: age, less than 12, age between 12 and 18, and finally everybody else.\n",
    "# Now instead of just finishing up there, let's go ahead and add another elif.\n",
    "# And here we're going to combine two conditions. We're going to say if the age is greater than or equal to 45 and the age is less\n",
    "# than or equal to 55, then we get to catch that midlife crisis window.\n",
    "# Well, in this case, we're going to print something like-- we're going to say \"Everything's going to be ok. Have a free ride on us!\"\n",
    "# And in fact, we don't need to modify the bill in any way because we know that with if, elif and else statements is that once this condition matches,\n",
    "# then everything that's inside this block, so everything that's indented inside this elif is going to be carried out\n",
    "# namely printing this out, and then it's going to skip the rest of this if/else block and continue on.\n",
    "# Now, if they want to photo this, they'll have to pay $3 but at least their ticket is free.\n",
    "# And we've been able to do this because we know about the and logical operator.\n",
    "# In the next lesson, we're going to practice using logical operators and more by completing another code challenge. So for all of that and more, I'll see you there.\n",
    "\n",
    "\n",
    "print(\"Welcome to the rollercoaster!\")\n",
    "height = int(input(\"What is your height in cm? \"))\n",
    "bill = 0\n",
    "\n",
    "if height >= 120:\n",
    "  print(\"You can ride the rollercoaster!\")\n",
    "  age = int(input(\"What is your age? \"))\n",
    "  if age < 12:\n",
    "    bill = 5\n",
    "    print(\"Child tickets are $5.\")\n",
    "  elif age <= 18:\n",
    "    bill = 7\n",
    "    print(\"Youth tickets are $7.\")\n",
    "  elif age >= 45 and age <= 55:\n",
    "    print(\"Everything is going to be ok. Have a free ride on us!\")\n",
    "  else:\n",
    "    bill = 12\n",
    "    print(\"Adult tickets are $12.\")\n",
    "  \n",
    "  wants_photo = input(\"Do you want a photo taken? Y or N. \")\n",
    "  if wants_photo == \"Y\":\n",
    "    bill += 3\n",
    "  \n",
    "  print(f\"Your final bill is ${bill}\")\n",
    "\n",
    "else:\n",
    "  print(\"Sorry, you have to grow taller before you can ride.\")"
   ]
  },
  {
   "cell_type": "code",
   "execution_count": 1,
   "id": "a01e6d30-e067-481c-b880-ca243ef3a425",
   "metadata": {},
   "outputs": [
    {
     "name": "stdout",
     "output_type": "stream",
     "text": [
      "The Zen of Python, by Tim Peters\n",
      "\n",
      "Beautiful is better than ugly.\n",
      "Explicit is better than implicit.\n",
      "Simple is better than complex.\n",
      "Complex is better than complicated.\n",
      "Flat is better than nested.\n",
      "Sparse is better than dense.\n",
      "Readability counts.\n",
      "Special cases aren't special enough to break the rules.\n",
      "Although practicality beats purity.\n",
      "Errors should never pass silently.\n",
      "Unless explicitly silenced.\n",
      "In the face of ambiguity, refuse the temptation to guess.\n",
      "There should be one-- and preferably only one --obvious way to do it.\n",
      "Although that way may not be obvious at first unless you're Dutch.\n",
      "Now is better than never.\n",
      "Although never is often better than *right* now.\n",
      "If the implementation is hard to explain, it's a bad idea.\n",
      "If the implementation is easy to explain, it may be a good idea.\n",
      "Namespaces are one honking great idea -- let's do more of those!\n"
     ]
    }
   ],
   "source": [
    "import this"
   ]
  },
  {
   "cell_type": "code",
   "execution_count": 3,
   "id": "060d7aae-d112-46fe-8dae-8f1e64ce78cc",
   "metadata": {},
   "outputs": [
    {
     "name": "stdout",
     "output_type": "stream",
     "text": [
      "Joseph\n"
     ]
    }
   ],
   "source": [
    "'''The Zen of Python, by Tim Peters\n",
    "\n",
    "Beautiful is better than ugly.\n",
    "Explicit is better than implicit.\n",
    "Simple is better than complex.\n",
    "Complex is better than complicated.\n",
    "Flat is better than nested.\n",
    "Sparse is better than dense.\n",
    "Readability counts.\n",
    "Special cases aren't special enough to break the rules.\n",
    "Although practicality beats purity.\n",
    "Errors should never pass silently.\n",
    "Unless explicitly silenced.\n",
    "In the face of ambiguity, refuse the temptation to guess.\n",
    "There should be one-- and preferably only one --obvious way to do it.\n",
    "Although that way may not be obvious at first unless you're Dutch.\n",
    "Now is better than never.\n",
    "Although never is often better than *right* now.\n",
    "If the implementation is hard to explain, it's a bad idea.\n",
    "If the implementation is easy to explain, it may be a good idea.\n",
    "Namespaces are one honking great idea -- let's do more of those!'''\n",
    "print(\"Joseph\")"
   ]
  },
  {
   "cell_type": "code",
   "execution_count": null,
   "id": "c16b0744-a5fe-4811-94a7-85933c9baa1b",
   "metadata": {},
   "outputs": [],
   "source": []
  }
 ],
 "metadata": {
  "kernelspec": {
   "display_name": "Python 3 (ipykernel)",
   "language": "python",
   "name": "python3"
  },
  "language_info": {
   "codemirror_mode": {
    "name": "ipython",
    "version": 3
   },
   "file_extension": ".py",
   "mimetype": "text/x-python",
   "name": "python",
   "nbconvert_exporter": "python",
   "pygments_lexer": "ipython3",
   "version": "3.11.7"
  }
 },
 "nbformat": 4,
 "nbformat_minor": 5
}
