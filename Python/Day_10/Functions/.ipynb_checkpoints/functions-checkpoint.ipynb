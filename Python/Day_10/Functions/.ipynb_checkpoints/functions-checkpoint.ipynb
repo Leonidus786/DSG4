{
 "cells": [
  {
   "cell_type": "markdown",
   "id": "8ef02be6-eb47-478d-9da3-7175fbaad855",
   "metadata": {},
   "source": [
    "## Functions --\n",
    "\n",
    "A block of code written to perform particular task."
   ]
  },
  {
   "cell_type": "code",
   "execution_count": 5,
   "id": "dd082329-d042-4637-87a6-a6c8bdceeaf5",
   "metadata": {},
   "outputs": [],
   "source": [
    "def f_name(x):\n",
    "    return x*3"
   ]
  },
  {
   "cell_type": "code",
   "execution_count": 6,
   "id": "de998d9a-6529-40d3-8b9f-386477a8a268",
   "metadata": {},
   "outputs": [
    {
     "data": {
      "text/plain": [
       "27"
      ]
     },
     "execution_count": 6,
     "metadata": {},
     "output_type": "execute_result"
    }
   ],
   "source": [
    "f_name(9)"
   ]
  },
  {
   "cell_type": "code",
   "execution_count": 8,
   "id": "c4ade1fd-53c9-40fa-8f7a-b3a36250eb1c",
   "metadata": {},
   "outputs": [
    {
     "data": {
      "text/plain": [
       "6"
      ]
     },
     "execution_count": 8,
     "metadata": {},
     "output_type": "execute_result"
    }
   ],
   "source": [
    "f_name(2)"
   ]
  },
  {
   "cell_type": "code",
   "execution_count": 9,
   "id": "798352e4-1f69-4b3c-bf48-eb4625d6be6f",
   "metadata": {},
   "outputs": [],
   "source": [
    "def SI_calc(p,r,t):\n",
    "    interest = (p*r*t)/100\n",
    "    print(interest)"
   ]
  },
  {
   "cell_type": "code",
   "execution_count": 10,
   "id": "700c5629-ef50-45b1-b61f-fcab4376d842",
   "metadata": {},
   "outputs": [
    {
     "name": "stdout",
     "output_type": "stream",
     "text": [
      "2250.0\n"
     ]
    }
   ],
   "source": [
    "SI_calc(p = 5000, r = 5, t = 9)"
   ]
  },
  {
   "cell_type": "code",
   "execution_count": 11,
   "id": "981ab8a8-2b7f-4e3a-9a3c-68b408133137",
   "metadata": {},
   "outputs": [
    {
     "name": "stdout",
     "output_type": "stream",
     "text": [
      "4500.0\n"
     ]
    }
   ],
   "source": [
    "SI_calc(10000,5,9)"
   ]
  },
  {
   "cell_type": "code",
   "execution_count": 12,
   "id": "1a5241b4-81bd-437f-8a73-e8c0e5c18bed",
   "metadata": {},
   "outputs": [
    {
     "ename": "TypeError",
     "evalue": "SI_calc() missing 1 required positional argument: 't'",
     "output_type": "error",
     "traceback": [
      "\u001b[1;31m---------------------------------------------------------------------------\u001b[0m",
      "\u001b[1;31mTypeError\u001b[0m                                 Traceback (most recent call last)",
      "Cell \u001b[1;32mIn[12], line 1\u001b[0m\n\u001b[1;32m----> 1\u001b[0m SI_calc(\u001b[38;5;241m10000\u001b[39m,\u001b[38;5;241m5\u001b[39m)\n",
      "\u001b[1;31mTypeError\u001b[0m: SI_calc() missing 1 required positional argument: 't'"
     ]
    }
   ],
   "source": [
    "SI_calc(10000,5)"
   ]
  },
  {
   "cell_type": "code",
   "execution_count": 16,
   "id": "94909bcc-8e82-488d-a567-cd02c1fcc6e3",
   "metadata": {},
   "outputs": [
    {
     "name": "stdout",
     "output_type": "stream",
     "text": [
      "The father of all kids is Leonidus\n"
     ]
    }
   ],
   "source": [
    "def my_function(*kids):\n",
    "  print(\"The father of all kids is \" + kids[-1])\n",
    "\n",
    "my_function(\"Emil\", \"Tobias\", \"Linus\", \"Leonidus\")"
   ]
  },
  {
   "cell_type": "code",
   "execution_count": 17,
   "id": "9daa9e9d-4ab5-4a16-bc0c-3df2f15e103c",
   "metadata": {},
   "outputs": [],
   "source": [
    "def my_function(child3, child2, child1):\n",
    "  print(\"The youngest child is \" + child3)"
   ]
  },
  {
   "cell_type": "code",
   "execution_count": 18,
   "id": "2d3daedd-c3ee-4569-b31c-c0d77fe1c98d",
   "metadata": {},
   "outputs": [
    {
     "name": "stdout",
     "output_type": "stream",
     "text": [
      "The youngest child is Linus\n"
     ]
    }
   ],
   "source": [
    "my_function(child1 = \"Emil\", child2 = \"Tobias\", child3 = \"Linus\")"
   ]
  },
  {
   "cell_type": "code",
   "execution_count": 20,
   "id": "5e28e96e-b732-45f1-8f3c-aa8e6b1b4554",
   "metadata": {},
   "outputs": [
    {
     "name": "stdout",
     "output_type": "stream",
     "text": [
      "I am from Sweden\n",
      "I am from India\n",
      "I am from Norway\n",
      "I am from Brazil\n"
     ]
    }
   ],
   "source": [
    "def my_function(country = \"Norway\"):\n",
    "  print(\"I am from \" + country)\n",
    "\n",
    "my_function(\"Sweden\")\n",
    "my_function(\"India\")\n",
    "my_function()\n",
    "my_function(\"Brazil\")"
   ]
  },
  {
   "cell_type": "code",
   "execution_count": 21,
   "id": "4e03bbef-a2d7-468f-be5d-5fd3439a2837",
   "metadata": {},
   "outputs": [
    {
     "name": "stdout",
     "output_type": "stream",
     "text": [
      "apple\n",
      "banana\n",
      "cherry\n"
     ]
    }
   ],
   "source": [
    "def my_function(food):\n",
    "  for x in food:\n",
    "    print(x)\n",
    "\n",
    "fruits = [\"apple\", \"banana\", \"cherry\"]\n",
    "\n",
    "my_function(fruits)"
   ]
  },
  {
   "cell_type": "code",
   "execution_count": 26,
   "id": "c6541c34-8ee6-4f01-8f81-969228b5ff35",
   "metadata": {},
   "outputs": [],
   "source": [
    "def my_function(Bhai):\n",
    "    pass"
   ]
  }
 ],
 "metadata": {
  "kernelspec": {
   "display_name": "Python 3 (ipykernel)",
   "language": "python",
   "name": "python3"
  },
  "language_info": {
   "codemirror_mode": {
    "name": "ipython",
    "version": 3
   },
   "file_extension": ".py",
   "mimetype": "text/x-python",
   "name": "python",
   "nbconvert_exporter": "python",
   "pygments_lexer": "ipython3",
   "version": "3.11.7"
  }
 },
 "nbformat": 4,
 "nbformat_minor": 5
}
