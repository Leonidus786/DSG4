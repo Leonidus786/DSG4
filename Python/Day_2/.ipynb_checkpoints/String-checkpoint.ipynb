{
 "cells": [
  {
   "cell_type": "code",
   "execution_count": 13,
   "id": "98cebeaf-9860-4049-9f60-477bb1a543fd",
   "metadata": {},
   "outputs": [
    {
     "ename": "SyntaxError",
     "evalue": "invalid syntax (3522529575.py, line 1)",
     "output_type": "error",
     "traceback": [
      "\u001b[1;36m  Cell \u001b[1;32mIn[13], line 1\u001b[1;36m\u001b[0m\n\u001b[1;33m    Msg = \"Hello \"Abhishek\" how's u doing mate?\"\u001b[0m\n\u001b[1;37m                  ^\u001b[0m\n\u001b[1;31mSyntaxError\u001b[0m\u001b[1;31m:\u001b[0m invalid syntax\n"
     ]
    }
   ],
   "source": [
    "Msg = \"Hello \"Abhishek\" how's u doing mate?\"\n",
    "Msg"
   ]
  },
  {
   "cell_type": "code",
   "execution_count": 14,
   "id": "d0c194a5-7743-424e-8aff-5a4a4c14d158",
   "metadata": {},
   "outputs": [
    {
     "data": {
      "text/plain": [
       "'Hello \"Abhishek\" how is u doing mate?'"
      ]
     },
     "execution_count": 14,
     "metadata": {},
     "output_type": "execute_result"
    }
   ],
   "source": [
    "Msg = \"Hello \\\"Abhishek\\\" how is u doing mate?\"\n",
    "Msg"
   ]
  },
  {
   "cell_type": "code",
   "execution_count": 15,
   "id": "add3f3ff-494c-4aad-8d7e-1a38cccaffba",
   "metadata": {},
   "outputs": [
    {
     "data": {
      "text/plain": [
       "'Hello \"Abhishek\" how is u doing mate?'"
      ]
     },
     "execution_count": 15,
     "metadata": {},
     "output_type": "execute_result"
    }
   ],
   "source": [
    "Msg = 'Hello \"Abhishek\" how is u doing mate?'\n",
    "Msg"
   ]
  },
  {
   "cell_type": "code",
   "execution_count": 4,
   "id": "95bc54b8-c6f8-4c01-a243-d26f23bb981f",
   "metadata": {},
   "outputs": [
    {
     "data": {
      "text/plain": [
       "\"Hello 'Abhishek' how is u doing mate?\""
      ]
     },
     "execution_count": 4,
     "metadata": {},
     "output_type": "execute_result"
    }
   ],
   "source": [
    "Msg = \"Hello 'Abhishek' how is u doing mate?\"\n",
    "Msg"
   ]
  },
  {
   "cell_type": "code",
   "execution_count": 5,
   "id": "add18628-3857-4606-bd9d-ca5e8edd020a",
   "metadata": {},
   "outputs": [],
   "source": [
    "a_1 = \"Abhishek\""
   ]
  },
  {
   "cell_type": "code",
   "execution_count": 6,
   "id": "569b3445-8f78-4edf-9adf-2508416681f7",
   "metadata": {},
   "outputs": [
    {
     "data": {
      "text/plain": [
       "'A'"
      ]
     },
     "execution_count": 6,
     "metadata": {},
     "output_type": "execute_result"
    }
   ],
   "source": [
    "a_1[0]"
   ]
  },
  {
   "cell_type": "code",
   "execution_count": 7,
   "id": "cea3a665-be1b-415f-851e-3ee500b59353",
   "metadata": {},
   "outputs": [
    {
     "data": {
      "text/plain": [
       "8"
      ]
     },
     "execution_count": 7,
     "metadata": {},
     "output_type": "execute_result"
    }
   ],
   "source": [
    "len(a_1)"
   ]
  },
  {
   "cell_type": "code",
   "execution_count": 8,
   "id": "f47ffc6f-4e71-4b13-813f-bbb9b8b58e4c",
   "metadata": {},
   "outputs": [
    {
     "data": {
      "text/plain": [
       "'A'"
      ]
     },
     "execution_count": 8,
     "metadata": {},
     "output_type": "execute_result"
    }
   ],
   "source": [
    "a_1[-8]"
   ]
  },
  {
   "cell_type": "code",
   "execution_count": 9,
   "id": "8ebd8e53-ba87-4a45-9940-224ff444d063",
   "metadata": {},
   "outputs": [
    {
     "data": {
      "text/plain": [
       "'b'"
      ]
     },
     "execution_count": 9,
     "metadata": {},
     "output_type": "execute_result"
    }
   ],
   "source": [
    "a_1[1]"
   ]
  },
  {
   "cell_type": "code",
   "execution_count": 10,
   "id": "2109101a-ae2c-455f-b8d7-30e990ec490a",
   "metadata": {},
   "outputs": [
    {
     "data": {
      "text/plain": [
       "'s'"
      ]
     },
     "execution_count": 10,
     "metadata": {},
     "output_type": "execute_result"
    }
   ],
   "source": [
    "a_1[4]"
   ]
  },
  {
   "cell_type": "code",
   "execution_count": 11,
   "id": "79ede01a-b274-4170-879f-2942d22676e5",
   "metadata": {},
   "outputs": [
    {
     "data": {
      "text/plain": [
       "'i'"
      ]
     },
     "execution_count": 11,
     "metadata": {},
     "output_type": "execute_result"
    }
   ],
   "source": [
    "a_1[-5]"
   ]
  },
  {
   "cell_type": "code",
   "execution_count": 12,
   "id": "90ecea95-676e-4f58-8b22-957d1ae7de2d",
   "metadata": {},
   "outputs": [
    {
     "data": {
      "text/plain": [
       "'s'"
      ]
     },
     "execution_count": 12,
     "metadata": {},
     "output_type": "execute_result"
    }
   ],
   "source": [
    "a_1[-4]"
   ]
  }
 ],
 "metadata": {
  "kernelspec": {
   "display_name": "Python 3 (ipykernel)",
   "language": "python",
   "name": "python3"
  },
  "language_info": {
   "codemirror_mode": {
    "name": "ipython",
    "version": 3
   },
   "file_extension": ".py",
   "mimetype": "text/x-python",
   "name": "python",
   "nbconvert_exporter": "python",
   "pygments_lexer": "ipython3",
   "version": "3.11.7"
  }
 },
 "nbformat": 4,
 "nbformat_minor": 5
}
