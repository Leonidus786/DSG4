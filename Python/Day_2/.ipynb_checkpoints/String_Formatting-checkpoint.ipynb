{
 "cells": [
  {
   "cell_type": "code",
   "execution_count": 3,
   "metadata": {
    "id": "hVkyXXPHiwRH"
   },
   "outputs": [],
   "source": [
    "age = 30"
   ]
  },
  {
   "cell_type": "code",
   "execution_count": 4,
   "metadata": {
    "colab": {
     "base_uri": "https://localhost:8080/"
    },
    "id": "SddggF6IlF-4",
    "outputId": "673311e2-642d-4a86-e317-2aeee707cabb"
   },
   "outputs": [
    {
     "data": {
      "text/plain": [
       "int"
      ]
     },
     "execution_count": 4,
     "metadata": {},
     "output_type": "execute_result"
    }
   ],
   "source": [
    "type(age)"
   ]
  },
  {
   "cell_type": "code",
   "execution_count": 6,
   "metadata": {
    "colab": {
     "base_uri": "https://localhost:8080/",
     "height": 145
    },
    "id": "9xADJOWmllTb",
    "outputId": "187209a6-be13-457d-9e9d-94bc5c273d28"
   },
   "outputs": [
    {
     "ename": "TypeError",
     "evalue": "can only concatenate str (not \"int\") to str",
     "output_type": "error",
     "traceback": [
      "\u001b[1;31m---------------------------------------------------------------------------\u001b[0m",
      "\u001b[1;31mTypeError\u001b[0m                                 Traceback (most recent call last)",
      "Cell \u001b[1;32mIn[6], line 1\u001b[0m\n\u001b[1;32m----> 1\u001b[0m \u001b[38;5;28mprint\u001b[39m(\u001b[38;5;124m\"\u001b[39m\u001b[38;5;124mMy current age is \u001b[39m\u001b[38;5;124m\"\u001b[39m\u001b[38;5;241m+\u001b[39m age)\n",
      "\u001b[1;31mTypeError\u001b[0m: can only concatenate str (not \"int\") to str"
     ]
    }
   ],
   "source": [
    "print(\"My current age is \"+ age)"
   ]
  },
  {
   "cell_type": "code",
   "execution_count": 7,
   "metadata": {
    "id": "ylMKKTrflsgQ"
   },
   "outputs": [],
   "source": [
    "age = str(age)"
   ]
  },
  {
   "cell_type": "code",
   "execution_count": 8,
   "metadata": {
    "colab": {
     "base_uri": "https://localhost:8080/"
    },
    "id": "pCtLb7coly_2",
    "outputId": "2867f762-c43e-4ccf-a479-d2f5f2917899"
   },
   "outputs": [
    {
     "name": "stdout",
     "output_type": "stream",
     "text": [
      "My current age is 30\n"
     ]
    }
   ],
   "source": [
    "print(\"My current age is \"+ age)"
   ]
  },
  {
   "cell_type": "code",
   "execution_count": 10,
   "metadata": {
    "id": "soUbYsX6l2bK"
   },
   "outputs": [],
   "source": [
    "my_salary = 75000\n",
    "no_of_bank_accounts = 2\n",
    "my_bonus = 20000\n",
    "my_side_income = 120000"
   ]
  },
  {
   "cell_type": "code",
   "execution_count": 11,
   "metadata": {
    "colab": {
     "base_uri": "https://localhost:8080/"
    },
    "id": "T0gjXelvmeQq",
    "outputId": "8894a0d5-cfcf-460d-b2ec-a0e10bf9fc0e"
   },
   "outputs": [
    {
     "name": "stdout",
     "output_type": "stream",
     "text": [
      "My name is this and my salary is 75000 I have 2 accounts and my bonus is 20000\n"
     ]
    }
   ],
   "source": [
    "print(\"My name is this and my salary is \"+str(my_salary) + \" I have \"+ str(no_of_bank_accounts) + \" accounts and my bonus is \"+ str(my_bonus))"
   ]
  },
  {
   "cell_type": "markdown",
   "metadata": {
    "id": "9pvAenf3nkWk"
   },
   "source": [
    "# f-strings == f\"whatever you want write it and the use a placeholder{}\""
   ]
  },
  {
   "cell_type": "code",
   "execution_count": 12,
   "metadata": {
    "colab": {
     "base_uri": "https://localhost:8080/"
    },
    "id": "Xn4pd-c2m5Bl",
    "outputId": "559673a3-0acb-40a9-d63d-a97487c94251"
   },
   "outputs": [
    {
     "name": "stdout",
     "output_type": "stream",
     "text": [
      "My name is this and my salary is 75000  I have 2 accounts and my bonus is 20000\n"
     ]
    }
   ],
   "source": [
    "print(f\"My name is this and my salary is {my_salary}  I have {no_of_bank_accounts} accounts and my bonus is {my_bonus}\")"
   ]
  },
  {
   "cell_type": "code",
   "execution_count": 13,
   "metadata": {
    "colab": {
     "base_uri": "https://localhost:8080/"
    },
    "id": "MtzcYu_Ynd0y",
    "outputId": "3742e0fd-6997-4faa-f4b9-86da4235b136"
   },
   "outputs": [
    {
     "name": "stdout",
     "output_type": "stream",
     "text": [
      "I know i have 1000 notes in my pocket\n"
     ]
    }
   ],
   "source": [
    "print(f\"I know i have {2*500} notes in my pocket\")"
   ]
  },
  {
   "cell_type": "code",
   "execution_count": 15,
   "metadata": {
    "id": "bnozaP5Hn91x"
   },
   "outputs": [],
   "source": [
    "price = 59.78654"
   ]
  },
  {
   "cell_type": "code",
   "execution_count": 16,
   "metadata": {
    "colab": {
     "base_uri": "https://localhost:8080/"
    },
    "id": "m8AflOIVojos",
    "outputId": "caec4c86-deca-446b-f11a-230b5d35a341"
   },
   "outputs": [
    {
     "name": "stdout",
     "output_type": "stream",
     "text": [
      "The price is 59.79 dollars\n"
     ]
    }
   ],
   "source": [
    "txt = f\"The price is {price:.2f} dollars\"\n",
    "print(txt)"
   ]
  },
  {
   "cell_type": "code",
   "execution_count": 17,
   "metadata": {
    "colab": {
     "base_uri": "https://localhost:8080/"
    },
    "id": "Hy0yO4vMon0F",
    "outputId": "6064d20d-c535-4ae6-ca8d-6bea9a914dbd"
   },
   "outputs": [
    {
     "data": {
      "text/plain": [
       "0.875"
      ]
     },
     "execution_count": 17,
     "metadata": {},
     "output_type": "execute_result"
    }
   ],
   "source": [
    "c = 7/8\n",
    "c"
   ]
  },
  {
   "cell_type": "code",
   "execution_count": 18,
   "metadata": {
    "colab": {
     "base_uri": "https://localhost:8080/"
    },
    "id": "TkApMc4oo27Y",
    "outputId": "d07e9529-d4e1-4616-f0db-eae445d5b22a"
   },
   "outputs": [
    {
     "name": "stdout",
     "output_type": "stream",
     "text": [
      "The price is 0.88\n"
     ]
    }
   ],
   "source": [
    "print(f\"The price is {c:.2f}\")"
   ]
  },
  {
   "cell_type": "code",
   "execution_count": 19,
   "metadata": {
    "colab": {
     "base_uri": "https://localhost:8080/"
    },
    "id": "yg8rpxoVpALq",
    "outputId": "be29b431-b6fe-4c40-bd67-373f13c82246"
   },
   "outputs": [
    {
     "name": "stdout",
     "output_type": "stream",
     "text": [
      "Hello World!\n",
      "Hello World!\n",
      "Hello World!\n"
     ]
    }
   ],
   "source": [
    "print(\"Hello World!\")\n",
    "print(\"Hello World!\")\n",
    "print(\"Hello World!\")"
   ]
  },
  {
   "cell_type": "code",
   "execution_count": 20,
   "metadata": {
    "colab": {
     "base_uri": "https://localhost:8080/"
    },
    "id": "yDUroFjLpnea",
    "outputId": "7d7d5b30-2952-4664-bca5-ba343d06170b"
   },
   "outputs": [
    {
     "name": "stdout",
     "output_type": "stream",
     "text": [
      "Hello World!\n",
      "Hello World!\n",
      "Hello World!\n"
     ]
    }
   ],
   "source": [
    "# Instead of writing this 3 times we can use \"\\n\" which is a new line character for doing the same\n",
    "# thing in a single line of code\n",
    "\n",
    "print(\"Hello World!\\nHello World!\\nHello World!\")"
   ]
  }
 ],
 "metadata": {
  "colab": {
   "provenance": []
  },
  "kernelspec": {
   "display_name": "Python 3 (ipykernel)",
   "language": "python",
   "name": "python3"
  },
  "language_info": {
   "codemirror_mode": {
    "name": "ipython",
    "version": 3
   },
   "file_extension": ".py",
   "mimetype": "text/x-python",
   "name": "python",
   "nbconvert_exporter": "python",
   "pygments_lexer": "ipython3",
   "version": "3.11.7"
  }
 },
 "nbformat": 4,
 "nbformat_minor": 4
}
