{
 "cells": [
  {
   "cell_type": "code",
   "execution_count": 6,
   "id": "a6ca5ea3-9ca5-4c74-b256-f470b6da6f78",
   "metadata": {},
   "outputs": [],
   "source": [
    "# 1. Write a Python function to find the maximum of three numbers.\n",
    "# 1st approach\n",
    "\n",
    "def Max_of_Three(a,b,c):\n",
    "    return max(a,b,c)"
   ]
  },
  {
   "cell_type": "code",
   "execution_count": 2,
   "id": "5f86d132-8f46-43a8-bc42-47216a7f943b",
   "metadata": {},
   "outputs": [
    {
     "data": {
      "text/plain": [
       "1000"
      ]
     },
     "execution_count": 2,
     "metadata": {},
     "output_type": "execute_result"
    }
   ],
   "source": [
    "Max_of_Three(101,786,1000)"
   ]
  },
  {
   "cell_type": "code",
   "execution_count": 13,
   "id": "7f642244-ae20-45ae-bbeb-792d4390773c",
   "metadata": {},
   "outputs": [],
   "source": [
    "# 2nd Approach\n",
    "def max_of_two(x,y):\n",
    "    if x > y:\n",
    "        return x\n",
    "    return y\n",
    "def max_of_three(x,y,z):\n",
    "    return max_of_two(x, max_of_two(y,z))"
   ]
  },
  {
   "cell_type": "code",
   "execution_count": 14,
   "id": "8f88400c-d8ab-41ed-bdbd-174326581f9e",
   "metadata": {},
   "outputs": [
    {
     "data": {
      "text/plain": [
       "9"
      ]
     },
     "execution_count": 14,
     "metadata": {},
     "output_type": "execute_result"
    }
   ],
   "source": [
    "max_of_three(4,9,8)"
   ]
  },
  {
   "cell_type": "code",
   "execution_count": 9,
   "id": "1d1aab9d-dee5-42f8-b17f-08563b1d6b32",
   "metadata": {},
   "outputs": [],
   "source": [
    "# 2. Write a Python function to sum all the numbers in a list. Sample List : (8, 2, 3, 0, 7) Expected Output : 20\n",
    "\n",
    "# 1st approach\n",
    "\n",
    "def list_of_numbers(*numbers):\n",
    "    return sum(numbers)"
   ]
  },
  {
   "cell_type": "code",
   "execution_count": 10,
   "id": "4a92a82a-055e-4a38-abc9-02cf3f3306cb",
   "metadata": {},
   "outputs": [
    {
     "data": {
      "text/plain": [
       "15"
      ]
     },
     "execution_count": 10,
     "metadata": {},
     "output_type": "execute_result"
    }
   ],
   "source": [
    "list_of_numbers(1,2,3,4,5)"
   ]
  },
  {
   "cell_type": "code",
   "execution_count": 18,
   "id": "91a035cc-8fc8-4cc8-ac5d-483200ba5690",
   "metadata": {},
   "outputs": [],
   "source": [
    "# 2nd Approach\n",
    "\n",
    "# Define a function named 'sum' that takes a list of 'numbers' as input\n",
    "\n",
    "def sum_of_numbers(numbers):\n",
    "    # initialize a variable \"total\"  to store the sum of numbers, starting at 0.\n",
    "    total = 0\n",
    "    # Iterate through each element 'x' in the 'numbers' list\n",
    "    for x in numbers:\n",
    "        # Add the current element 'x' to the 'total'\n",
    "        total += x\n",
    "    # return the final sum stored in the 'total' variable\n",
    "    return total"
   ]
  },
  {
   "cell_type": "code",
   "execution_count": 19,
   "id": "46658005-ef5f-4302-b037-0a90e00c01a1",
   "metadata": {},
   "outputs": [
    {
     "name": "stdout",
     "output_type": "stream",
     "text": [
      "20\n"
     ]
    }
   ],
   "source": [
    "numbers = [8,2,3,0,7]\n",
    "print(sum_of_numbers(numbers))"
   ]
  },
  {
   "cell_type": "code",
   "execution_count": 20,
   "id": "fdd361c5-1fa4-4b68-bb02-402eba0779dc",
   "metadata": {},
   "outputs": [],
   "source": [
    "# 11. Write a Python function to check whether a number is \"Perfect\" or not.According to Wikipedia : In\n",
    "# number theory, a perfect number is a positive integer that is equal to the sum of its proper positive\n",
    "# divisors, that is, the sum of its positive divisors excluding the number itself (also known as its aliquot\n",
    "# sum). Equivalently, a perfect number is a number that is half the sum of all of its positive divisors\n",
    "# (including itself).Example : The first perfect number is 6, because 1, 2, and 3 are its proper positive\n",
    "# divisors, and 1 + 2 + 3 = 6. Equivalently, the number 6 is equal to half the sum of all its positive divisors: (\n",
    "# 1 + 2 + 3 + 6 ) / 2 = 6. The next perfect number is 28 = 1 + 2 + 4 + 7 + 14. This is followed by the perfect\n",
    "# numbers 496 and 8128."
   ]
  },
  {
   "cell_type": "code",
   "execution_count": 21,
   "id": "74c5dd83-06c1-43ad-8f0c-87189b09036d",
   "metadata": {},
   "outputs": [],
   "source": [
    "# GPT version:- \n",
    "def is_perfect_number(num):\n",
    "    \"\"\"\n",
    "    Check whether a number is perfect or not.\n",
    "\n",
    "    Args:\n",
    "    num (int): Number to check.\n",
    "\n",
    "    Returns:\n",
    "    bool: True if the number is perfect, False otherwise.\n",
    "    \"\"\"\n",
    "    if num <= 0:\n",
    "        return False\n",
    "\n",
    "    sum_of_divisors = 0\n",
    "    for i in range(1, num):\n",
    "        if num % i == 0:\n",
    "            sum_of_divisors += i\n",
    "\n",
    "    return sum_of_divisors == num"
   ]
  },
  {
   "cell_type": "code",
   "execution_count": 22,
   "id": "a76e51f0-adc5-468f-b6c9-d5ad2b84106a",
   "metadata": {},
   "outputs": [
    {
     "name": "stdout",
     "output_type": "stream",
     "text": [
      "True\n",
      "True\n",
      "False\n"
     ]
    }
   ],
   "source": [
    "\n",
    "print(is_perfect_number(6))  # Output: True (6 is a perfect number, as 1 + 2 + 3 = 6)\n",
    "print(is_perfect_number(28))  # Output: True (28 is a perfect number, as 1 + 2 + 4 + 7 + 14 = 28)\n",
    "print(is_perfect_number(12))  # Output: False (12 is not a perfect number)"
   ]
  },
  {
   "cell_type": "code",
   "execution_count": 23,
   "id": "b045696f-58bd-4caf-919d-f0438784672f",
   "metadata": {},
   "outputs": [],
   "source": [
    "# 2nd Approach \n",
    "\n",
    "# Define a function named 'perfect_number' that checks if a number 'n' is a perfect number\n",
    "\n",
    "def perfect_number(n):\n",
    "    # initialize a variable 'sum' to store the sum of factors of 'n'\n",
    "    sum = 0\n",
    "    # iterate through numbers from  1 to 'n-1' using 'x' as the iterator\n",
    "    for x in range(1,n):\n",
    "        # check if \"x\" is a factor of 'n' (divides 'n' without remainder)\n",
    "        if n % x == 0:\n",
    "            # if 'x' is a factor of 'n', add it to the 'sum'\n",
    "            sum += x\n",
    "    # check if the 'sum' of factors is equal to the original number 'n'\n",
    "    return sum == n"
   ]
  },
  {
   "cell_type": "code",
   "execution_count": 24,
   "id": "a19119f1-f61d-46cf-addb-d468e4e736f9",
   "metadata": {},
   "outputs": [
    {
     "data": {
      "text/plain": [
       "True"
      ]
     },
     "execution_count": 24,
     "metadata": {},
     "output_type": "execute_result"
    }
   ],
   "source": [
    "perfect_number(28)"
   ]
  },
  {
   "cell_type": "code",
   "execution_count": 25,
   "id": "0d69635d-3f39-4087-94a5-c79c861451b0",
   "metadata": {},
   "outputs": [
    {
     "name": "stdout",
     "output_type": "stream",
     "text": [
      "Perfect numbers between 1 and 1000:\n",
      "6\n",
      "28\n",
      "496\n"
     ]
    }
   ],
   "source": [
    "def is_perfect_number(num):\n",
    "    \"\"\"\n",
    "    Check whether a number is perfect or not.\n",
    "\n",
    "    Args:\n",
    "    num (int): Number to check.\n",
    "\n",
    "    Returns:\n",
    "    bool: True if the number is perfect, False otherwise.\n",
    "    \"\"\"\n",
    "    if num <= 0:\n",
    "        return False\n",
    "\n",
    "    sum_of_divisors = 0\n",
    "    for i in range(1, num):\n",
    "        if num % i == 0:\n",
    "            sum_of_divisors += i\n",
    "\n",
    "    return sum_of_divisors == num\n",
    "\n",
    "# Find and print all perfect numbers between 1 and 1000\n",
    "print(\"Perfect numbers between 1 and 1000:\")\n",
    "for i in range(1, 1001):\n",
    "    if is_perfect_number(i):\n",
    "        print(i)"
   ]
  },
  {
   "cell_type": "code",
   "execution_count": 26,
   "id": "3c20d70c-e36c-4f1a-8b9e-ae6762ef78a3",
   "metadata": {},
   "outputs": [
    {
     "name": "stdout",
     "output_type": "stream",
     "text": [
      "Perfect numbers between 1 and 1000:\n",
      "6\n",
      "28\n",
      "496\n"
     ]
    }
   ],
   "source": [
    "def is_perfect_number(num):\n",
    "    \"\"\"Check whether a number is perfect or not.\"\"\"\n",
    "    return num == sum(i for i in range(1, num) if num % i == 0)\n",
    "\n",
    "# Find and print all perfect numbers between 1 and 1000\n",
    "print(\"Perfect numbers between 1 and 1000:\")\n",
    "for i in range(1, 1001):\n",
    "    if is_perfect_number(i):\n",
    "        print(i)"
   ]
  },
  {
   "cell_type": "code",
   "execution_count": 3,
   "id": "249ec935-7fb3-4cdc-9978-24356896718e",
   "metadata": {},
   "outputs": [
    {
     "name": "stdout",
     "output_type": "stream",
     "text": [
      "True\n"
     ]
    }
   ],
   "source": [
    "# 12. Write a Python function that checks whether a passed string is a palindrome or not.Note: A\n",
    "# palindrome is a word, phrase, or sequence that reads the same backward as forward, e.g., madam or\n",
    "# nurses run.\n",
    "\n",
    "# Define a function named 'IsPalindrome' that checks whether a string is palindrome or not.\n",
    "\n",
    "def IsPalindrome(string):\n",
    "    # Initialize left and right pointers to check characters from the start and end of string\n",
    "    left_pos = 0\n",
    "    right_pos = len(string) - 1\n",
    "\n",
    "    # loop until the pointers meet or cross each other\n",
    "    while right_pos >= left_pos:\n",
    "        # check if the characters at the left and right position are not equal\n",
    "        if not string[left_pos] == string[right_pos]:\n",
    "            # if character's don't match, return False (not a palindrome)\n",
    "            return False\n",
    "\n",
    "        # Move the left pointer to the right and right to the left and continue checking\n",
    "        left_pos += 1\n",
    "        right_pos -= 1\n",
    "\n",
    "    return True\n",
    "\n",
    "print(IsPalindrome(\"MADAM\"))"
   ]
  }
 ],
 "metadata": {
  "kernelspec": {
   "display_name": "Python 3 (ipykernel)",
   "language": "python",
   "name": "python3"
  },
  "language_info": {
   "codemirror_mode": {
    "name": "ipython",
    "version": 3
   },
   "file_extension": ".py",
   "mimetype": "text/x-python",
   "name": "python",
   "nbconvert_exporter": "python",
   "pygments_lexer": "ipython3",
   "version": "3.11.7"
  }
 },
 "nbformat": 4,
 "nbformat_minor": 5
}
